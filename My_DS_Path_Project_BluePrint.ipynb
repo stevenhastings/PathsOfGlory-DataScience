{
  "nbformat": 4,
  "nbformat_minor": 0,
  "metadata": {
    "colab": {
      "provenance": [],
      "collapsed_sections": [
        "mAZhc9mXS7A4"
      ],
      "authorship_tag": "ABX9TyPbx098wwuzYw3ra51Uzxx4",
      "include_colab_link": true
    },
    "kernelspec": {
      "name": "python3",
      "display_name": "Python 3"
    },
    "language_info": {
      "name": "python"
    }
  },
  "cells": [
    {
      "cell_type": "markdown",
      "metadata": {
        "id": "view-in-github",
        "colab_type": "text"
      },
      "source": [
        "<a href=\"https://colab.research.google.com/github/stevenhastings/PathsOfGlory-DataScience/blob/main/My_DS_Path_Project_BluePrint.ipynb\" target=\"_parent\"><img src=\"https://colab.research.google.com/assets/colab-badge.svg\" alt=\"Open In Colab\"/></a>"
      ]
    },
    {
      "cell_type": "markdown",
      "source": [
        "# Courses"
      ],
      "metadata": {
        "id": "mAZhc9mXS7A4"
      }
    },
    {
      "cell_type": "markdown",
      "source": [
        "## Udemy \n",
        "1.   [Arduino Step by Step Getting Serious](https://www.udemy.com/course-dashboard-redirect/?course_id=1166454)\n",
        "*   34 hours\n",
        "2.   [Automate the Boring Stuff with Python Programming](https://www.udemy.com/course-dashboard-redirect/?course_id=543600)\n",
        "*   9.5 hours\n",
        "3. [Bayesian Machine Learning in Python: A/B Testing](https://www.udemy.com/course-dashboard-redirect/?course_id=1011712)\n",
        "*   10.5 hours\n",
        "4. [Building Recommender Systems with Machine Learning and AI](https://www.udemy.com/course-dashboard-redirect/?course_id=1726410)\n",
        "*   11.5 hours\n",
        "5. [Complete Linear Algebra: Theory and Implementation in Code](https://www.udemy.com/course-dashboard-redirect/?course_id=1714498)\n",
        "*   34 total hours\n",
        "6. [Complete Python 3 Masterclass Journey](https://www.udemy.com/course-dashboard-redirect/?course_id=1337374)\n",
        "*   10.5 hours\n",
        "7. [Crash Course Electronics and PCB Design](https://www.udemy.com/course-dashboard-redirect/?course_id=401998)\n",
        "*   109 hours\n",
        "8. [Deep Learning A-Z: Hands-On Artificial Neural Networks](https://www.udemy.com/course-dashboard-redirect/?course_id=1151632)\n",
        "*   22.5 hours\n",
        "9. [Deep Learning and Computer Vision A-Z™: OpenCV, SSD & GANs](https://www.udemy.com/course-dashboard-redirect/?course_id=1357844)\n",
        "*   11 hours\n",
        "10. [Deep Learning: Advanced Computer Vision (GANs, SSD, +More!)](https://www.udemy.com/course-dashboard-redirect/?course_id=1533864)\n",
        "*   15 hrs\n",
        "11. [Deep Learning: Advanced Natural Language Processing and RNNs](https://www.udemy.com/course-dashboard-redirect/?course_id=1647976)\n",
        "*   8.5 hrs\n",
        "12. [Interactive Python Dashboards with Plotly and Dash](https://www.udemy.com/course-dashboard-redirect/?course_id=1575562)\n",
        "*   9.5 hrs\n",
        "13. [Learn BERT - Most Powerful NLP Algorithm by Google](https://www.udemy.com/course-dashboard-redirect/?course_id=2518074)\n",
        "*   5.5 hrs\n",
        "14. [Learn Streamlit Python](https://www.udemy.com/course-dashboard-redirect/?course_id=3615822)\n",
        "*   29.5 hrs\n",
        "15. [LeetCode in Python: 50 Algorithms Coding Interview Questions](https://www.udemy.com/course-dashboard-redirect/?course_id=2692016)\n",
        "*   26 hrs\n",
        "16. [Machine Learning A-Z™: Hands-On Python & R In Data Science](https://www.udemy.com/course-dashboard-redirect/?course_id=950390)\n",
        "*   44.5 hrs\n",
        "17. [Master Math by Coding in Python](https://www.udemy.com/course-dashboard-redirect/?course_id=2552715)\n",
        "*   37 hrs\n",
        "18. [Master Statistics & Probability 2020: Beginner-To-Advanced](https://www.udemy.com/course-dashboard-redirect/?course_id=1978732)\n",
        "*   13.5 hrs\n",
        "19. [Modern Computer Vision™ PyTorch, Tensorflow2 Keras & OpenCV4](https://www.udemy.com/course-dashboard-redirect/?course_id=3214523)\n",
        "*   27.5\n",
        "20. [NLP - Natural Language Processing with Python](https://www.udemy.com/course-dashboard-redirect/?course_id=2058283)\n",
        "*   11.5\n",
        "21. [Practical Recommender Systems For Business Applications](https://www.udemy.com/course-dashboard-redirect/?course_id=4482678)\n",
        "*   4.5\n",
        "22. [Principal Component Analysis in Python and MATLAB](https://www.udemy.com/course-dashboard-redirect/?course_id=2727412)\n",
        "*   1.5\n",
        "23. [Python and Django Full Stack Web Developer Bootcamp](https://www.udemy.com/course-dashboard-redirect/?course_id=822444)\n",
        "*   32\n",
        "24. [Python and Flask Bootcamp: Create Websites using Flask!](https://www.udemy.com/course-dashboard-redirect/?course_id=1546884)\n",
        "*   20\n",
        "25. [Python for Data Science and Machine Learning Bootcamp](https://www.udemy.com/course-dashboard-redirect/?course_id=903744)\n",
        "*   25\n",
        "26. [Python for Statistical Analysis](https://www.udemy.com/course-dashboard-redirect/?course_id=2432816)\n",
        "*   8.5\n",
        "27. [REST APIs with Flask and Python](https://www.udemy.com/course-dashboard-redirect/?course_id=970600)\n",
        "*   17\n",
        "28. [ROS For Beginners (ROS Noetic, Melodic, Kinetic)](https://www.udemy.com/course-dashboard-redirect/?course_id=1725034)\n",
        "*   6\n",
        "29. [Spark and Python for Big Data with PySpark](https://www.udemy.com/course-dashboard-redirect/?course_id=980798)\n",
        "*   10.5\n",
        "30. [Speech Recognition A-Z With Hands-On](https://www.udemy.com/course-dashboard-redirect/?course_id=2882232)\n",
        "*   7\n",
        "31. [TensorFlow 2.0 Practical and Advanced](https://www.udemy.com/course-dashboard-redirect/?course_id=2517920)\n",
        "*   12.5\n",
        "32. [TensorFlow 2.0: Deep Learning and Artificial Intelligence](https://www.udemy.com/course-dashboard-redirect/?course_id=2430492)\n",
        "*   22\n",
        "33. [The Data Science Course 2022: Complete Data Science Bootcamp](https://www.udemy.com/course-dashboard-redirect/?course_id=1754098)\n",
        "*   32\n",
        "34. [The Python Mega Course: Build 10 Real World Projects](https://www.udemy.com/course-dashboard-redirect/?course_id=692188)\n",
        "*   33\n",
        "35. [Unreal Engine 5 C++ Developer: Learn C++ & Make Video Games](https://www.udemy.com/course-dashboard-redirect/?course_id=657932)\n",
        "*   29.5\n",
        " - [Certificate](https://udemy-certificate.s3.amazonaws.com/image/UC-015f6586-e149-433a-b0d5-fd159f103c90.jpg)\n",
        "36. [Web Developer Bootcamp with Flask and Python](https://www.udemy.com/course-dashboard-redirect/?course_id=631128)\n",
        "*   20\n",
        "37. [Web Scraping and API Fundamentals in Python](https://www.udemy.com/course-dashboard-redirect/?course_id=2866626)\n",
        "*   4\n",
        "### Total Hours: 732.5"
      ],
      "metadata": {
        "id": "WM08EubuTGuw"
      }
    },
    {
      "cell_type": "markdown",
      "source": [
        "# LinkedIn Learning"
      ],
      "metadata": {
        "id": "0-uWWWDcoMtF"
      }
    },
    {
      "cell_type": "markdown",
      "source": [
        "# Data Camp\n",
        "1. [SQL For Joining Data](https://app.datacamp.com/learn/courses/sql-for-joining-data)\n",
        "*   5 hrs\n",
        "> [Certification](https://www.datacamp.com/statement-of-accomplishment/course/715778f334caa82975506d713a6d080b30a08d1f)\n",
        "\n",
        "2. [Understanding Data Visualization](https://app.datacamp.com/learn/courses/understanding-data-visualization)\n",
        "*   2 hrs\n",
        "> [Certification](https://www.datacamp.com/statement-of-accomplishment/course/60f0467fe7ad1bfaaca4b4cf0d3217052dd657db)\n",
        "3. [Advanced Deep Learning with Keras](https://app.datacamp.com/learn/courses/advanced-deep-learning-with-keras)\n",
        "*   4 hrs\n",
        "> [Certification](https://www.datacamp.com/statement-of-accomplishment/course/d6ad8196e4d770dbb496249b375dd92908ba7383)\n",
        "4. [Ensemble Methods in Python](https://app.datacamp.com/learn/courses/ensemble-methods-in-python)\n",
        "*   4 hrs\n",
        "> [Certification](https://www.datacamp.com/statement-of-accomplishment/course/5ba3e62b35d5baaace31f6a8b9d38b91374cf2c6)\n",
        "5. [Marketing Analytics: Predicting Customer Churn in Python](https://app.datacamp.com/learn/courses/marketing-analytics-predicting-customer-churn-in-python)\n",
        "*   4 hrs\n",
        "> [Certification](https://www.datacamp.com/statement-of-accomplishment/course/6866dbf1421e2dab801ed38254e8bac656d59203)\n",
        "6. [Introduction to Statistics in Python](https://app.datacamp.com/learn/courses/introduction-to-statistics-in-python)\n",
        "*   4 hrs\n",
        "> [Certification]()\n",
        "7. [Feature Engineering for NLP in Python](https://app.datacamp.com/learn/courses/feature-engineering-for-nlp-in-python)\n",
        "*   4 hrs\n",
        "> [Certification](https://www.datacamp.com/statement-of-accomplishment/course/423c659d1ff54194d9d15a3cab2a1779d26a5496)\n",
        "8. [Advanced NLP with spaCy](https://app.datacamp.com/learn/courses/advanced-nlp-with-spacy)\n",
        "*   5 hrs\n",
        "> [Certification](https://www.datacamp.com/statement-of-accomplishment/course/ab758fc326bdb3fd34f66dfa8a54aac032163bec)\n",
        "9. [Writing Efficient Python Code](https://app.datacamp.com/learn/courses/writing-efficient-python-code)\n",
        "*   4 hrs\n",
        "> [Certification](https://www.datacamp.com/statement-of-accomplishment/course/7579d1331d48d41f3246f55fc169bfa5b5043344)\n",
        "10. [Streamlined Data Ingestion with Pandas](https://app.datacamp.com/learn/courses/streamlined-data-ingestion-with-pandas)\n",
        "*   4 hrs\n",
        "> [Certification](https://www.datacamp.com/statement-of-accomplishment/course/f2d0c841ae8b42b8733e18ea160fb766a11afc68)\n",
        "11. [Web Scraping in Python](https://app.datacamp.com/learn/courses/web-scraping-with-python)\n",
        "*   4 hrs\n",
        "> [Certification](https://www.datacamp.com/statement-of-accomplishment/course/f625d91a50331955d917049e05d499abf2cf2fe6)\n",
        "12. [Machine Learning with Scikit-Learn](https://app.datacamp.com/learn/courses/machine-learning-with-scikit-learn)\n",
        "*   4 hrs\n",
        "> [Certification](https://www.datacamp.com/statement-of-accomplishment/course/8185b4dbc6448c50fde1e88b814023930d657c18)\n",
        "13. [Introduction to Git](https://app.datacamp.com/learn/courses/introduction-to-git)\n",
        "*   4 hrs\n",
        "> [Certification](https://www.datacamp.com/statement-of-accomplishment/course/76f18ab44fe8bec5e50ec9952518e6ad69740c50)\n",
        "14. [Introduction to Relational Databases in SQL](https://app.datacamp.com/learn/courses/introduction-to-relational-databases-in-sql)\n",
        "*   4 hrs\n",
        "> [Certification](https://www.datacamp.com/statement-of-accomplishment/course/25d4ccc8fe4e0b97a2c3bc70bbff8e7bc802f3be)\n",
        "15. [Introduction to Data Engineering](https://app.datacamp.com/learn/courses/introduction-to-data-engineering)\n",
        "*   4 hrs\n",
        "> [Certification](https://www.datacamp.com/statement-of-accomplishment/course/8410eafd2ffa4699be259d4c2907d996bdd63b41)\n",
        "16. [Understanding Data Engineering](https://app.datacamp.com/learn/courses/understanding-data-engineering)\n",
        "*   2 hrs\n",
        "> [Certification](https://www.datacamp.com/statement-of-accomplishment/course/f1cef0178ae86ef243ce171159f496a0da7db17f)\n",
        "17. [Joining Data with Pandas](https://app.datacamp.com/learn/courses/joining-data-with-pandas)\n",
        "*   4 hrs\n",
        "> [Certification](https://www.datacamp.com/statement-of-accomplishment/course/78856413515d3946f5466b319059a14238b57965)\n",
        "18. [Introduction to Importing Data in Python](https://app.datacamp.com/learn/courses/introduction-to-importing-data-in-python)\n",
        "*   3 hrs\n",
        "> [Certification](https://www.datacamp.com/statement-of-accomplishment/course/6077035d509d0419763aaa41511302b6f54008e5)\n",
        "19. [Python Data Science Toolbox (part 2)](https://app.datacamp.com/learn/courses/python-data-science-toolbox-part-2)\n",
        "*   4 hrs\n",
        "> [Certification](https://www.datacamp.com/statement-of-accomplishment/course/bf6dcb752873afb274b7122c00e9a6578eeaf603)\n",
        "20. [Data Manipulation with Pandas](https://app.datacamp.com/learn/courses/data-manipulation-with-pandas)\n",
        "*   4 hrs\n",
        "> [Certification](https://www.datacamp.com/statement-of-accomplishment/course/4eaa5fb1c7d82eb6f49b2bff63c6300e66cfde12)\n",
        "21. [Python Data Science Toolbox (part 1)](https://app.datacamp.com/learn/courses/python-data-science-toolbox-part-1)\n",
        "*   3 hrs\n",
        "> [Certification](https://www.datacamp.com/statement-of-accomplishment/course/ef1989113fe216283c0bff246568f7b5d950fe73)\n",
        "22. [Intermediate Data Visualization with Seaborn](https://app.datacamp.com/learn/courses/intermediate-data-visualization-with-seaborn)\n",
        "*   4 hrs\n",
        "> [Certification](https://www.datacamp.com/statement-of-accomplishment/course/31bc5247bbaf1ee81a93988a910004db289dd15e)\n",
        "23. [Intermediate Python](https://app.datacamp.com/learn/courses/intermediate-python)\n",
        "*   4 hrs\n",
        "> [Certification](https://www.datacamp.com/statement-of-accomplishment/course/03802afc19b02396c6a3019612e8f71125ddebfd)\n",
        "24. [Intermediate SQL Queries](https://app.datacamp.com/learn/courses/intermediate-sql-queries)\n",
        "*   4 hrs\n",
        "> [Certification](https://www.datacamp.com/statement-of-accomplishment/course/65f75369a42c894345177e93fb47fb860d32540a)\n",
        "25. [Introduction to Python](https://app.datacamp.com/learn/courses/intro-to-python-for-data-science)\n",
        "*   4 hrs\n",
        "> [Certification](https://www.datacamp.com/statement-of-accomplishment/course/e21b6f02ea14d47cb98342a3101a09de9cefb285)\n",
        "26. [Introduction to Data Visualization with Seaborn](https://app.datacamp.com/learn/courses/introduction-to-data-visualization-with-seaborn)\n",
        "*   4 hrs\n",
        "> [Certification](https://www.datacamp.com/statement-of-accomplishment/course/09f7a32fb722badfaf58ef502c36afe0da82e95e)\n",
        "27. [Statistical Thinking in Python (Part 1)](https://app.datacamp.com/learn/courses/statistical-thinking-in-python-part-1)\n",
        "*   3 hrs\n",
        "> [Certification](https://www.datacamp.com/statement-of-accomplishment/course/bcaeec94e4d6b1f752be19792ff3d0190e181291)\n",
        "28. [Statistical Thinking in Python (Part 2)](https://www.datacamp.com/courses/python-data-science-toolbox-part-2)\n",
        "*   4 hrs\n",
        "> [Certification]()\n",
        "29. [AWS Cloud Concepts](https://app.datacamp.com/learn/courses/aws-cloud-concepts)\n",
        "*   2 hrs\n",
        "> [Certification](https://www.datacamp.com/statement-of-accomplishment/course/a58c1cd387c8c673f20582f5acce64b233fb1e90)\n",
        "30. [Streaming Data with AWS Kinesis and Lambda](https://www.datacamp.com/courses/streaming-data-with-aws-kinesis-and-lambda/continue)\n",
        "*   4 hrs\n",
        "> [Certification Pending](...)\n",
        "31. [Writing Functions in Python](https://campus.datacamp.com/courses/writing-functions-in-python) \n",
        "> [Certification](https://www.datacamp.com/statement-of-accomplishment/course/1bb88ff90f2fc7c746842205ca67e00caab6fd6b?raw=1)\n",
        "*   4 hrs\n",
        "\n",
        "#### Total Hours: 113"
      ],
      "metadata": {
        "id": "VhiOPXxnoQXa"
      }
    },
    {
      "cell_type": "markdown",
      "source": [
        "# Certifications\n",
        "> ### NASBA: National Association of State Boards of Accountancy\n",
        "> ### CEU: Continuing Education Units\n",
        "> ### CompTIA: Computing Technology Industry Association\n",
        "> ### PMI: Project Management Institute\n",
        "> ### IIBA: International Institute of Business Analysis"
      ],
      "metadata": {
        "id": "MeyoAmfAosuJ"
      }
    },
    {
      "cell_type": "markdown",
      "source": [
        "# LinkedIn Learn Certificate URL's (Non-Accredited)\n",
        "*   [Learning Data Governance](https://www.linkedin.com/learning/certificates/66621d6cece7253394c79fcb887465fbc0db3eb185f09bcfe47878e9bc651743?trk=share_certificate)\n",
        "\n",
        "*   [Data Fluency: Exploring and Describing Data](https://www.linkedin.com/learning/certificates/33056b0209e3796517b846f12a6525f931ed0a9247d9dcee867f05e3f1c1132f?trk=share_certificate)\n",
        "\n",
        "*   [Lessons From Data Scientists](https://www.linkedin.com/learning/certificates/6a5d293566c1e61d109cf5259c9f4a74b4e5d145b735e4f00dd270a17e06a0d4?trk=share_certificate)\n",
        "\n",
        "*   [Side Hustle Strategies for Data Science and Analytics Experts](https://www.linkedin.com/learning/certificates/771ebec2837a593f711409f1155598a1b776219463f81a57f0a06a43e67f51cb?trk=share_certificate)\n",
        "\n",
        "\n"
      ],
      "metadata": {
        "id": "dcrlVS5_mJRM"
      }
    },
    {
      "cell_type": "markdown",
      "source": [
        "### Total Hours Spent Learning on All Platforms\n",
        "*   Udemy:\n",
        "*   LinkedIn Learn:\n",
        "*   Data Camp:"
      ],
      "metadata": {
        "id": "RFNBUB9Bul9I"
      }
    },
    {
      "cell_type": "code",
      "source": [
        "# linkedin_total = ...\n",
        "\n",
        "# linkedin_total \n",
        "\n",
        "udemy_total = (34 + 9.5 + 10.5 + 11.5 + 34 + 10.5 + 109 + 22.5 + 11 + 15 + \n",
        "         8.5 + 9.5 + 5.5 + 29.5 + 26 + 44.5 + 37 + 13.5 + 27.5 + \n",
        "         11.5 + 4.5 + 1.5 + 32 + 20 + 25 + 8.5 + 17 + 6 + \n",
        "         10.5 + 7 + 12.5 + 22 + 32 + 29.5 + 20 + 4)\n",
        "\n",
        "udemy_total\n",
        "\n",
        "datacamp_total = (5 + 2 + 4 + 4 + 4 + 4 + 4 + 5 + 4 + 4 + \n",
        "                  4 + 4 + 4 + 4 + 4 + 2 + 4 + 3 + 4 + \n",
        "                  4 + 3 + 4 + 4 + 4 + 4 + 4 + 3)\n",
        "\n",
        "bloom_total = 960\n",
        "\n",
        "total = udemy_total + datacamp_total + bloom_total\n",
        "\n",
        "print(f\"Udemy = {udemy_total} hours\\n DataCamp = {datacamp_total} hours\\n BloomTech = {bloom_total} hours\\n Total = {total} hours\")"
      ],
      "metadata": {
        "colab": {
          "base_uri": "https://localhost:8080/"
        },
        "id": "yOvit6VbeXV7",
        "outputId": "a55154e4-2add-4609-8e35-3596ff6f2c91"
      },
      "execution_count": null,
      "outputs": [
        {
          "output_type": "stream",
          "name": "stdout",
          "text": [
            "Udemy = 732.5 hours\n",
            " DataCamp = 103 hours\n",
            " BloomTech = 960 hours\n",
            " Total = 1795.5 hours\n"
          ]
        }
      ]
    },
    {
      "cell_type": "code",
      "source": [],
      "metadata": {
        "id": "1aRR_BJ2gZly"
      },
      "execution_count": null,
      "outputs": []
    }
  ]
}